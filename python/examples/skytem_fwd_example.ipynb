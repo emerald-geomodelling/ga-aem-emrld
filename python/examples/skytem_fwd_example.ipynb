{
 "cells": [
  {
   "cell_type": "code",
   "execution_count": 1,
   "id": "f2b24276",
   "metadata": {},
   "outputs": [],
   "source": [
    "import numpy as np\n",
    "import time\n",
    "import random\n",
    "import sys"
   ]
  },
  {
   "cell_type": "code",
   "execution_count": 2,
   "id": "419c0779",
   "metadata": {},
   "outputs": [],
   "source": [
    "display_plots = True\n",
    "save_pdfs     = False"
   ]
  },
  {
   "cell_type": "code",
   "execution_count": 3,
   "id": "af868612",
   "metadata": {},
   "outputs": [],
   "source": [
    "import matplotlib\n",
    "if save_pdfs == True:\n",
    "    #Need to do this to save pdf plots when using remote connection\n",
    "    matplotlib.use(\"pdf\");\n",
    "\n",
    "import matplotlib.pyplot as plt"
   ]
  },
  {
   "cell_type": "code",
   "execution_count": 4,
   "id": "59a0f665",
   "metadata": {},
   "outputs": [],
   "source": [
    "sys.path.append( r\"c:\\Users\\emeraldgeomodelling\\Software\\ga-aem-emrld\\python\" )\n",
    "from gatdaem1d import tdlib\n",
    "from gatdaem1d import TDAEMSystem\n",
    "from gatdaem1d import Earth\n",
    "from gatdaem1d import Geometry\n",
    "from gatdaem1d import Response"
   ]
  },
  {
   "cell_type": "markdown",
   "id": "8705a9ac",
   "metadata": {},
   "source": [
    "## Construct the AEM system class instance"
   ]
  },
  {
   "cell_type": "code",
   "execution_count": 5,
   "id": "131edf02",
   "metadata": {},
   "outputs": [
    {
     "name": "stdout",
     "output_type": "stream",
     "text": [
      "Number of windows =  18\n",
      "    1 0.00001539 0.00001900\n",
      "    2 0.00001939 0.00002400\n",
      "    3 0.00002439 0.00003100\n",
      "    4 0.00003139 0.00003900\n",
      "    5 0.00003939 0.00004900\n",
      "    6 0.00004939 0.00006200\n",
      "    7 0.00006239 0.00007800\n",
      "    8 0.00007839 0.00009900\n",
      "    9 0.00009939 0.00012500\n",
      "   10 0.00012539 0.00015700\n",
      "   11 0.00015739 0.00019900\n",
      "   12 0.00019939 0.00025000\n",
      "   13 0.00025039 0.00031500\n",
      "   14 0.00031539 0.00039700\n",
      "   15 0.00039739 0.00050000\n",
      "   16 0.00050039 0.00063000\n",
      "   17 0.00063039 0.00079300\n",
      "   18 0.00079339 0.00099900\n"
     ]
    }
   ],
   "source": [
    "\n",
    "#stmfile = \"../../examples/bhmar-skytem/stmfiles/Skytem-HM.stm\";\n",
    "stmfile  = \"..\\\\..\\\\examples\\\\bhmar-skytem\\\\stmfiles\\\\Skytem-LM.stm\"\n",
    "S = TDAEMSystem(stmfile)\n",
    "\n",
    "#Print the window times\n",
    "S.windows.print()\n"
   ]
  },
  {
   "cell_type": "markdown",
   "id": "35ad1815",
   "metadata": {},
   "source": [
    "## Plot the waveform and window positions"
   ]
  },
  {
   "cell_type": "code",
   "execution_count": 6,
   "id": "dc24a8aa",
   "metadata": {},
   "outputs": [
    {
     "name": "stderr",
     "output_type": "stream",
     "text": [
      "No artists with labels found to put in legend.  Note that artists whose label start with an underscore are ignored when legend() is called with no argument.\n"
     ]
    },
    {
     "data": {
      "image/png": "[encoded data removed]",
      "text/plain": [
       "<Figure size 640x480 with 1 Axes>"
      ]
     },
     "metadata": {},
     "output_type": "display_data"
    }
   ],
   "source": [
    "fig1 = plt.figure(1)\n",
    "#S.waveform.print(); #Too much printing\n",
    "S.waveform_windows_plot(fig1);\n",
    "fig1.gca().legend()\n",
    "if display_plots: plt.show(fig1)\n",
    "if save_pdfs: plt.savefig(\"figure1.pdf\", dpi=300, facecolor='w', \n",
    "                          edgecolor='w',\n",
    "                          orientation='portrait', \n",
    "                          papertype=None, format=None, \n",
    "                          transparent=False, \n",
    "                          bbox_inches=None, pad_inches=0.1, frameon=None)"
   ]
  },
  {
   "cell_type": "markdown",
   "id": "97dcb251",
   "metadata": {},
   "source": [
    "## Set the conductivity and thicknesses"
   ]
  },
  {
   "cell_type": "code",
   "execution_count": 7,
   "id": "c6a4b117",
   "metadata": {},
   "outputs": [
    {
     "name": "stdout",
     "output_type": "stream",
     "text": [
      "nlayers      = 3\n",
      "conductivity = [0.01  0.1   0.001]\n",
      "thickness    = [40. 20.]\n"
     ]
    }
   ],
   "source": [
    "conductivity = [0.01, 0.1, 0.001];\n",
    "thickness    = [40, 20];\n",
    "E = Earth(conductivity,thickness);\n",
    "E.print();\n"
   ]
  },
  {
   "cell_type": "markdown",
   "id": "ee12138d",
   "metadata": {},
   "source": [
    "## Set the system geometry"
   ]
  },
  {
   "cell_type": "code",
   "execution_count": 8,
   "id": "b00bdc0b",
   "metadata": {},
   "outputs": [
    {
     "name": "stdout",
     "output_type": "stream",
     "text": [
      "Tx height  35\n",
      "Tx roll    0\n",
      "Tx pitch   0\n",
      "Tx yaw     0\n",
      "Tx-Rx dx   -12.62\n",
      "Tx-Rx dy   0\n",
      "Tx-Rx dz   2.16\n",
      "Rx roll    0\n",
      "Rx pitch   0\n",
      "Rx yaw     0\n"
     ]
    }
   ],
   "source": [
    "G = Geometry(tx_height=35, txrx_dx = -12.62, txrx_dz = +2.16);\n",
    "G.print();"
   ]
  },
  {
   "cell_type": "markdown",
   "id": "1d113d6c",
   "metadata": {},
   "source": [
    "## Run a few random forward models in a loop"
   ]
  },
  {
   "cell_type": "code",
   "execution_count": 9,
   "id": "50d350fe",
   "metadata": {},
   "outputs": [
    {
     "name": "stdout",
     "output_type": "stream",
     "text": [
      "Time =  0.012685060501098633\n"
     ]
    }
   ],
   "source": [
    "t1=time.time()\n",
    "for i in range(10):\n",
    "    conductivity[0] = 10**(random.uniform(-3, 0))\n",
    "    conductivity[1] = 10**(random.uniform(-3, 0))\n",
    "    conductivity[2] = 10**(random.uniform(-3, 0))\n",
    "    thickness       = [40, 20]\n",
    "    E = Earth(conductivity,thickness)\n",
    "    fm = S.forwardmodel(G,E)\n",
    "t2=time.time()\n",
    "print(\"Time = \",t2-t1);"
   ]
  },
  {
   "cell_type": "markdown",
   "id": "ad76358f",
   "metadata": {},
   "source": [
    "## Set another earth nodel"
   ]
  },
  {
   "cell_type": "code",
   "execution_count": 10,
   "id": "fa05d847",
   "metadata": {},
   "outputs": [
    {
     "name": "stdout",
     "output_type": "stream",
     "text": [
      "\n",
      "Earth model:\n",
      "nlayers      = 3\n",
      "conductivity = [0.005 0.2   0.01 ]\n",
      "thickness    = [20. 10.]\n"
     ]
    }
   ],
   "source": [
    "conductivity = [0.005, 0.2, 0.01]\n",
    "thickness    = [20, 10]\n",
    "E = Earth(conductivity,thickness)\n",
    "print(\"\\nEarth model:\")\n",
    "E.print()"
   ]
  },
  {
   "cell_type": "markdown",
   "id": "0c9ac2b7",
   "metadata": {},
   "source": [
    "## Do a forward model"
   ]
  },
  {
   "cell_type": "code",
   "execution_count": 11,
   "id": "50fdf6a8",
   "metadata": {},
   "outputs": [
    {
     "name": "stdout",
     "output_type": "stream",
     "text": [
      "\n",
      "Forward model:\n",
      " Window       SX               SY               SZ\n",
      "    1     3.610079e-10    -1.778026e-39    -1.799299e-09\n",
      "    2     2.970649e-10    -2.506337e-39    -1.519228e-09\n",
      "    3     2.420803e-10    -1.688051e-39    -1.284213e-09\n",
      "    4     1.926391e-10    -1.528307e-39    -1.069462e-09\n",
      "    5     1.494630e-10    -1.267072e-39    -8.739623e-10\n",
      "    6     1.108065e-10    -1.473408e-39    -6.890431e-10\n",
      "    7     7.836628e-11    -1.481264e-39    -5.232145e-10\n",
      "    8     5.247355e-11    -1.398284e-39    -3.801456e-10\n",
      "    9     3.322134e-11    -1.419279e-39    -2.639395e-10\n",
      "   10     2.012773e-11    -1.393647e-39    -1.767673e-10\n",
      "   11     1.151784e-11    -1.307977e-39    -1.129257e-10\n",
      "   12     6.248988e-12    -1.256580e-39    -6.903647e-11\n",
      "   13     3.255043e-12    -1.158402e-39    -4.077264e-11\n",
      "   14     1.617661e-12    -9.856194e-40    -2.310737e-11\n",
      "   15     7.712836e-13    -7.852900e-40    -1.263524e-11\n",
      "   16     3.583936e-13    -5.760331e-40    -6.708770e-12\n",
      "   17     1.579457e-13    -8.639213e-41    -3.445286e-12\n",
      "   18     6.951096e-14     1.007255e-39    -1.730012e-12\n"
     ]
    }
   ],
   "source": [
    "print(\"\\nForward model:\")\n",
    "fm = S.forwardmodel(G,E); fm.print()"
   ]
  },
  {
   "cell_type": "markdown",
   "id": "0e1dac88",
   "metadata": {},
   "source": [
    "## Then these derivative apply to the last forward model computed"
   ]
  },
  {
   "cell_type": "code",
   "execution_count": 12,
   "id": "7fa6925a",
   "metadata": {},
   "outputs": [
    {
     "name": "stdout",
     "output_type": "stream",
     "text": [
      "\n",
      "Layer 1 conductivity derivative\n",
      " Window       SX               SY               SZ\n",
      "    1     7.032825e-09    -1.778026e-39    -3.379219e-08\n",
      "    2     3.814584e-09    -2.506337e-39    -1.667677e-08\n",
      "    3     2.633926e-09    -1.688051e-39    -1.093363e-08\n",
      "    4     2.055168e-09    -1.528307e-39    -8.655313e-09\n",
      "    5     1.623827e-09    -1.267072e-39    -7.138676e-09\n",
      "    6     1.240964e-09    -1.473408e-39    -5.807308e-09\n",
      "    7     9.185258e-10    -1.481264e-39    -4.623224e-09\n",
      "    8     6.445021e-10    -1.398284e-39    -3.533334e-09\n",
      "    9     4.318144e-10    -1.419279e-39    -2.604076e-09\n",
      "   10     2.762980e-10    -1.393647e-39    -1.846721e-09\n",
      "   11     1.673803e-10    -1.307977e-39    -1.251072e-09\n",
      "   12     9.579352e-11    -1.256580e-39    -8.073160e-10\n",
      "   13     5.228028e-11    -1.158402e-39    -4.998474e-10\n",
      "   14     2.700487e-11    -9.856194e-40    -2.944295e-10\n",
      "   15     1.319836e-11    -7.852900e-40    -1.654066e-10\n",
      "   16     6.230736e-12    -5.760331e-40    -8.919174e-11\n",
      "   17     2.758695e-12    -8.639213e-41    -4.602422e-11\n",
      "   18     1.211267e-12     1.007255e-39    -2.293722e-11\n",
      "\n",
      "Layer 2 conductivity derivative\n",
      " Window       SX               SY               SZ\n",
      "    1    -7.843204e-10    -1.778026e-39     4.495015e-09\n",
      "    2    -5.832325e-10    -2.506337e-39     3.690646e-09\n",
      "    3    -3.341885e-10    -1.688051e-39     2.584376e-09\n",
      "    4    -1.128144e-10    -1.528307e-39     1.490131e-09\n",
      "    5     4.302251e-11    -1.267072e-39     6.094220e-10\n",
      "    6     1.383059e-10    -1.473408e-39    -5.100839e-11\n",
      "    7     1.777993e-10    -1.481264e-39    -4.695965e-10\n",
      "    8     1.749743e-10    -1.398284e-39    -6.693102e-10\n",
      "    9     1.465644e-10    -1.419279e-39    -6.956961e-10\n",
      "   10     1.094999e-10    -1.393647e-39    -6.140837e-10\n",
      "   11     7.383234e-11    -1.307977e-39    -4.819673e-10\n",
      "   12     4.550726e-11    -1.256580e-39    -3.444437e-10\n",
      "   13     2.610492e-11    -1.158402e-39    -2.284158e-10\n",
      "   14     1.387299e-11    -9.856194e-40    -1.407852e-10\n",
      "   15     6.925174e-12    -7.852900e-40    -8.157550e-11\n",
      "   16     3.283729e-12    -5.760331e-40    -4.471170e-11\n",
      "   17     1.474475e-12    -8.639213e-41    -2.344090e-11\n",
      "   18     6.366758e-13     1.007255e-39    -1.169480e-11\n",
      "\n",
      "Layer 3 conductivity derivative\n",
      " Window       SX               SY               SZ\n",
      "    1    -7.471315e-10    -1.778026e-39     3.945140e-09\n",
      "    2    -9.431940e-10    -2.506337e-39     5.395854e-09\n",
      "    3    -9.169940e-10    -1.688051e-39     5.821384e-09\n",
      "    4    -7.339158e-10    -1.528307e-39     5.306889e-09\n",
      "    5    -5.022855e-10    -1.267072e-39     4.302171e-09\n",
      "    6    -2.771256e-10    -1.473408e-39     3.101171e-09\n",
      "    7    -9.634922e-11    -1.481264e-39     1.939470e-09\n",
      "    8     2.662537e-11    -1.398284e-39     9.548154e-10\n",
      "    9     9.204303e-11    -1.419279e-39     2.321442e-10\n",
      "   10     1.120894e-10    -1.393647e-39    -2.091246e-10\n",
      "   11     1.040911e-10    -1.307977e-39    -4.250864e-10\n",
      "   12     8.294773e-11    -1.256580e-39    -4.773384e-10\n",
      "   13     5.947092e-11    -1.158402e-39    -4.321696e-10\n",
      "   14     3.899505e-11    -9.856194e-40    -3.442515e-10\n",
      "   15     2.380438e-11    -7.852900e-40    -2.500488e-10\n",
      "   16     1.363773e-11    -5.760331e-40    -1.684475e-10\n",
      "   17     7.463940e-12    -8.639213e-41    -1.072430e-10\n",
      "   18     3.867268e-12     1.007255e-39    -6.454298e-11\n",
      "\n",
      "Layer 1 thickness derivative\n",
      " Window       SX               SY               SZ\n",
      "    1    -2.504529e-11    -1.778026e-39     9.645703e-11\n",
      "    2    -2.076312e-11    -2.506337e-39     8.400069e-11\n",
      "    3    -1.645714e-11    -1.688051e-39     6.977124e-11\n",
      "    4    -1.251568e-11    -1.528307e-39     5.583520e-11\n",
      "    5    -9.199394e-12    -1.267072e-39     4.341205e-11\n",
      "    6    -6.395822e-12    -1.473408e-39     3.221661e-11\n",
      "    7    -4.193277e-12    -1.481264e-39     2.276413e-11\n",
      "    8    -2.573106e-12    -1.398284e-39     1.521357e-11\n",
      "    9    -1.473229e-12    -1.419279e-39     9.590570e-12\n",
      "   10    -7.988544e-13    -1.393647e-39     5.773880e-12\n",
      "   11    -4.036431e-13    -1.307977e-39     3.273045e-12\n",
      "   12    -1.906660e-13    -1.256580e-39     1.752648e-12\n",
      "   13    -8.547238e-14    -1.158402e-39     8.978163e-13\n",
      "   14    -3.619373e-14    -9.856194e-40     4.366091e-13\n",
      "   15    -1.451613e-14    -7.852900e-40     2.029020e-13\n",
      "   16    -5.677020e-15    -5.760331e-40     9.144903e-14\n",
      "   17    -1.959854e-15    -8.639213e-41     3.882323e-14\n",
      "   18    -7.123509e-16     1.007255e-39     1.640156e-14\n",
      "\n",
      "Layer 2 thickness derivative\n",
      " Window       SX               SY               SZ\n",
      "    1    -1.587623e-11    -1.778026e-39     7.990787e-11\n",
      "    2    -1.526895e-11    -2.506337e-39     8.300017e-11\n",
      "    3    -1.108945e-11    -1.688051e-39     6.726592e-11\n",
      "    4    -6.337840e-12    -1.528307e-39     4.577388e-11\n",
      "    5    -2.580970e-12    -1.267072e-39     2.659727e-11\n",
      "    6     5.045822e-14    -1.473408e-39     1.115251e-11\n",
      "    7     1.543254e-12    -1.481264e-39     3.306665e-13\n",
      "    8     2.110140e-12    -1.398284e-39    -6.085159e-12\n",
      "    9     2.039098e-12    -1.419279e-39    -8.760038e-12\n",
      "   10     1.650900e-12    -1.393647e-39    -8.831067e-12\n",
      "   11     1.174475e-12    -1.307977e-39    -7.473536e-12\n",
      "   12     7.522675e-13    -1.256580e-39    -5.608782e-12\n",
      "   13     4.442108e-13    -1.158402e-39    -3.848729e-12\n",
      "   14     2.413743e-13    -9.856194e-40    -2.433142e-12\n",
      "   15     1.226824e-13    -7.852900e-40    -1.437738e-12\n",
      "   16     5.894601e-14    -5.760331e-40    -7.997029e-13\n",
      "   17     2.686887e-14    -8.639213e-41    -4.247771e-13\n",
      "   18     1.169504e-14     1.007255e-39    -2.138919e-13\n"
     ]
    }
   ],
   "source": [
    "print(\"\\nLayer 1 conductivity derivative\")\n",
    "dl1c = S.derivative(S.CONDUCTIVITYDERIVATIVE,1); dl1c.print()\n",
    "print(\"\\nLayer 2 conductivity derivative\")\n",
    "dl2c = S.derivative(S.CONDUCTIVITYDERIVATIVE,2); dl2c.print()\n",
    "print(\"\\nLayer 3 conductivity derivative\")\n",
    "dl3c = S.derivative(S.CONDUCTIVITYDERIVATIVE,3); dl3c.print()\n",
    "print(\"\\nLayer 1 thickness derivative\")\n",
    "dl1t = S.derivative(S.THICKNESSDERIVATIVE,1); dl1t.print()\n",
    "print(\"\\nLayer 2 thickness derivative\")\n",
    "dl2t=S.derivative(S.THICKNESSDERIVATIVE,2); dl2t.print()"
   ]
  },
  {
   "cell_type": "code",
   "execution_count": 13,
   "id": "87190036",
   "metadata": {},
   "outputs": [
    {
     "name": "stdout",
     "output_type": "stream",
     "text": [
      "\n",
      "Height derivative\n",
      " Window       SX               SY               SZ\n",
      "    1    -2.773969e-11    -1.778026e-39     1.103353e-10\n",
      "    2    -2.222214e-11    -2.506337e-39     9.097867e-11\n",
      "    3    -1.744538e-11    -1.688051e-39     7.433408e-11\n",
      "    4    -1.325867e-11    -1.528307e-39     5.932628e-11\n",
      "    5    -9.764133e-12    -1.267072e-39     4.616680e-11\n",
      "    6    -6.805668e-12    -1.473408e-39     3.433293e-11\n",
      "    7    -4.482137e-12    -1.481264e-39     2.435710e-11\n",
      "    8    -2.765165e-12    -1.398284e-39     1.635898e-11\n",
      "    9    -1.595346e-12    -1.419279e-39     1.038675e-11\n",
      "   10    -8.734638e-13    -1.393647e-39     6.309104e-12\n",
      "   11    -4.469184e-13    -1.307977e-39     3.618517e-12\n",
      "   12    -2.146765e-13    -1.256580e-39     1.967027e-12\n",
      "   13    -9.819181e-14    -1.158402e-39     1.026267e-12\n",
      "   14    -4.268520e-14    -9.856194e-40     5.106558e-13\n",
      "   15    -1.762640e-14    -7.852900e-40     2.437290e-13\n",
      "   16    -7.158740e-15    -5.760331e-40     1.133366e-13\n",
      "   17    -2.601794e-15    -8.639213e-41     4.999029e-14\n",
      "   18    -1.007642e-15     1.007255e-39     2.200785e-14\n",
      "\n",
      "Horizontal radial-distance derivative\n",
      " Window       SX               SY               SZ\n",
      "    1     2.656162e-11    -1.778026e-39     1.386985e-11\n",
      "    2     2.195012e-11    -2.506337e-39     1.111107e-11\n",
      "    3     1.798476e-11    -1.688051e-39     8.722690e-12\n",
      "    4     1.439855e-11    -1.528307e-39     6.629333e-12\n",
      "    5     1.124005e-11    -1.267072e-39     4.882066e-12\n",
      "    6     8.386230e-12    -1.473408e-39     3.402834e-12\n",
      "    7     5.968858e-12    -1.481264e-39     2.241069e-12\n",
      "    8     4.021521e-12    -1.398284e-39     1.382582e-12\n",
      "    9     2.560938e-12    -1.419279e-39     7.976728e-13\n",
      "   10     1.559644e-12    -1.393647e-39     4.367319e-13\n",
      "   11     8.965928e-13    -1.307977e-39     2.234592e-13\n",
      "   12     4.883481e-13    -1.256580e-39     1.073383e-13\n",
      "   13     2.552064e-13    -1.158402e-39     4.909591e-14\n",
      "   14     1.271456e-13    -9.856194e-40     2.134260e-14\n",
      "   15     6.074852e-14    -7.852900e-40     8.813199e-15\n",
      "   16     2.826946e-14    -5.760331e-40     3.579370e-15\n",
      "   17     1.247964e-14    -8.639213e-41     1.300897e-15\n",
      "   18     5.495925e-15     1.007255e-39     5.038211e-16\n",
      "\n",
      "Horizontal dx distance derivative\n",
      " Window       SX               SY               SZ\n",
      "    1    -2.656162e-11    -1.778026e-39    -1.386985e-11\n",
      "    2    -2.195012e-11    -2.506337e-39    -1.111107e-11\n",
      "    3    -1.798476e-11    -1.688051e-39    -8.722690e-12\n",
      "    4    -1.439855e-11    -1.528307e-39    -6.629333e-12\n",
      "    5    -1.124005e-11    -1.267072e-39    -4.882066e-12\n",
      "    6    -8.386230e-12    -1.473408e-39    -3.402834e-12\n",
      "    7    -5.968858e-12    -1.481264e-39    -2.241069e-12\n",
      "    8    -4.021521e-12    -1.398284e-39    -1.382582e-12\n",
      "    9    -2.560938e-12    -1.419279e-39    -7.976728e-13\n",
      "   10    -1.559644e-12    -1.393647e-39    -4.367319e-13\n",
      "   11    -8.965928e-13    -1.307977e-39    -2.234592e-13\n",
      "   12    -4.883481e-13    -1.256580e-39    -1.073383e-13\n",
      "   13    -2.552064e-13    -1.158402e-39    -4.909591e-14\n",
      "   14    -1.271456e-13    -9.856194e-40    -2.134260e-14\n",
      "   15    -6.074852e-14    -7.852900e-40    -8.813199e-15\n",
      "   16    -2.826946e-14    -5.760331e-40    -3.579370e-15\n",
      "   17    -1.247964e-14    -8.639213e-41    -1.300897e-15\n",
      "   18    -5.495925e-15     1.007255e-39    -5.038211e-16\n",
      "\n",
      "Horizontal dy distance derivative\n",
      " Window       SX               SY               SZ\n",
      "    1    -1.175784e-36    -5.360797e-14    -1.175784e-36\n",
      "    2    -1.213866e-36    -4.699758e-14    -1.213866e-36\n",
      "    3    -1.251952e-36    -3.795321e-14    -1.251952e-36\n",
      "    4    -1.254926e-36    -3.032564e-14    -1.254926e-36\n",
      "    5    -1.276151e-36    -2.328387e-14    -1.276151e-36\n",
      "    6    -1.302818e-36    -1.770518e-14    -1.302818e-36\n",
      "    7    -1.333810e-36    -1.267896e-14    -1.333810e-36\n",
      "    8    -1.374805e-36    -8.464521e-15    -1.374805e-36\n",
      "    9    -1.424373e-36    -5.480031e-15    -1.424373e-36\n",
      "   10    -1.478965e-36    -3.401911e-15    -1.478965e-36\n",
      "   11    -1.546534e-36    -1.928326e-15    -1.546534e-36\n",
      "   12    -1.628443e-36    -1.060400e-15    -1.628443e-36\n",
      "   13    -1.699381e-36    -5.567150e-16    -1.699381e-36\n",
      "   14    -1.726767e-36    -2.851864e-16    -1.726767e-36\n",
      "   15    -1.701152e-36    -1.357306e-16    -1.701152e-36\n",
      "   16    -1.582929e-36    -6.416182e-17    -1.582929e-36\n",
      "   17    -1.234536e-36    -2.993575e-17    -1.234536e-36\n",
      "   18    -5.965591e-37    -1.420363e-17    -5.965591e-37\n",
      "\n",
      "Vertical dz distance derivative\n",
      " Window       SX               SY               SZ\n",
      "    1    -1.386985e-11    -1.778026e-39     5.516764e-11\n",
      "    2    -1.111107e-11    -2.506337e-39     4.548933e-11\n",
      "    3    -8.722690e-12    -1.688051e-39     3.716704e-11\n",
      "    4    -6.629333e-12    -1.528307e-39     2.966314e-11\n",
      "    5    -4.882066e-12    -1.267072e-39     2.308340e-11\n",
      "    6    -3.402834e-12    -1.473408e-39     1.716646e-11\n",
      "    7    -2.241069e-12    -1.481264e-39     1.217855e-11\n",
      "    8    -1.382582e-12    -1.398284e-39     8.179489e-12\n",
      "    9    -7.976728e-13    -1.419279e-39     5.193374e-12\n",
      "   10    -4.367319e-13    -1.393647e-39     3.154552e-12\n",
      "   11    -2.234592e-13    -1.307977e-39     1.809258e-12\n",
      "   12    -1.073383e-13    -1.256580e-39     9.835136e-13\n",
      "   13    -4.909591e-14    -1.158402e-39     5.131337e-13\n",
      "   14    -2.134260e-14    -9.856194e-40     2.553279e-13\n",
      "   15    -8.813199e-15    -7.852900e-40     1.218645e-13\n",
      "   16    -3.579370e-15    -5.760331e-40     5.666832e-14\n",
      "   17    -1.300897e-15    -8.639213e-41     2.499515e-14\n",
      "   18    -5.038211e-16     1.007255e-39     1.100392e-14\n"
     ]
    }
   ],
   "source": [
    "print(\"\\nHeight derivative\")\n",
    "ddh=S.derivative(S.HDERIVATIVE,-1); ddh.print()\n",
    "print(\"\\nHorizontal radial-distance derivative\")\n",
    "ddr=S.derivative(S.RDERIVATIVE,-1); ddr.print()\n",
    "print(\"\\nHorizontal dx distance derivative\")\n",
    "ddx=S.derivative(S.XDERIVATIVE,-1); ddx.print()\n",
    "print(\"\\nHorizontal dy distance derivative\")\n",
    "ddy=S.derivative(S.YDERIVATIVE,-1); ddy.print()\n",
    "print(\"\\nVertical dz distance derivative\")\n",
    "ddz=S.derivative(S.ZDERIVATIVE,-1); ddz.print()"
   ]
  },
  {
   "cell_type": "markdown",
   "id": "38278930",
   "metadata": {},
   "source": [
    "## PLot the responses"
   ]
  },
  {
   "cell_type": "code",
   "execution_count": 14,
   "id": "e4b5e70e",
   "metadata": {},
   "outputs": [
    {
     "data": {
      "image/png": "[encoded data removed]",
      "text/plain": [
       "<Figure size 640x480 with 3 Axes>"
      ]
     },
     "metadata": {},
     "output_type": "display_data"
    }
   ],
   "source": [
    "\n",
    "fig2 = plt.figure(2)\n",
    "ax1 = plt.subplot2grid((2,2), (0,0), rowspan=2)\n",
    "ax1.loglog(S.windows.centre,-fm.SZ,'.-k',linewidth=2,label='Forward model')\n",
    "ax1.legend(fontsize=10)\n",
    "\n",
    "ax2 = fig2.add_subplot(2,2,2)\n",
    "ax2.semilogx(S.windows.centre,-dl1c.SZ,'-r',linewidth=2,label='dL1C')\n",
    "ax2.semilogx(S.windows.centre,-dl2c.SZ,'-g',linewidth=2,label='dL2C')\n",
    "ax2.semilogx(S.windows.centre,-dl3c.SZ,'-b',linewidth=2,label='dL3C')\n",
    "ax2.legend(fontsize=10)\n",
    "\n",
    "ax3 = fig2.add_subplot(2,2,4)\n",
    "ax3.semilogx(S.windows.centre,-dl1t.SZ,'-c',linewidth=2,label='dL1T')\n",
    "ax3.semilogx(S.windows.centre,-dl2t.SZ,'-m',linewidth=2,label='dL2T')\n",
    "ax3.legend(fontsize=10)\n",
    "if display_plots: \n",
    "    plt.show(fig2)\n",
    "if save_pdfs: \n",
    "    plt.savefig(\"figure2.pdf\", dpi=300, facecolor='w', \n",
    "                edgecolor='w', orientation='portrait', \n",
    "                papertype=None, format=None, transparent=False,\n",
    "                bbox_inches=None, pad_inches=0.1, frameon=None)\n"
   ]
  },
  {
   "cell_type": "code",
   "execution_count": 15,
   "id": "c05f8fb1",
   "metadata": {},
   "outputs": [
    {
     "data": {
      "text/plain": [
       "11.11111111111111"
      ]
     },
     "execution_count": 15,
     "metadata": {},
     "output_type": "execute_result"
    }
   ],
   "source": [
    "(8*5000)/60/60"
   ]
  },
  {
   "cell_type": "code",
   "execution_count": 16,
   "id": "85208215",
   "metadata": {},
   "outputs": [
    {
     "data": {
      "text/plain": [
       "4.513888888888888"
      ]
     },
     "execution_count": 16,
     "metadata": {},
     "output_type": "execute_result"
    }
   ],
   "source": [
    "(13*5000)/60/60/4"
   ]
  },
  {
   "cell_type": "code",
   "execution_count": null,
   "id": "977af0e9",
   "metadata": {},
   "outputs": [],
   "source": []
  }
 ],
 "metadata": {
  "kernelspec": {
   "display_name": "Python 3 (ipykernel)",
   "language": "python",
   "name": "python3"
  },
  "language_info": {
   "codemirror_mode": {
    "name": "ipython",
    "version": 3
   },
   "file_extension": ".py",
   "mimetype": "text/x-python",
   "name": "python",
   "nbconvert_exporter": "python",
   "pygments_lexer": "ipython3",
   "version": "3.9.13"
  }
 },
 "nbformat": 4,
 "nbformat_minor": 5
}
